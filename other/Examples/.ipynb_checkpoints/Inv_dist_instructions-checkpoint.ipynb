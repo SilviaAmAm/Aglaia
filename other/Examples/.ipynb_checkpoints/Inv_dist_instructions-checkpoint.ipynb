{
 "cells": [
  {
   "cell_type": "markdown",
   "metadata": {},
   "source": [
    "# Inverse matrix descriptor in TensorFlow\n",
    "\n",
    "This notebook explains how to make an inverse matrix descriptor in TensorFlow starting from a matrix of `[n_samples, n_features]`. Each row is a different configuration, and each atom has 3 cartesian coordinates x, y and z (so, `n_features` is a multiple of 3).\n",
    "\n",
    "The first step is to generate a tensor. In this case we have a system with 3 atoms."
   ]
  },
  {
   "cell_type": "code",
   "execution_count": 1,
   "metadata": {
    "collapsed": false
   },
   "outputs": [
    {
     "data": {
      "text/plain": [
       "array([[[  1.,   2.,   3.],\n",
       "        [  4.,   5.,   6.],\n",
       "        [  1.,   1.,   1.],\n",
       "        [  2.,   2.,   2.]],\n",
       "\n",
       "       [[  2.,   4.,   6.],\n",
       "        [  8.,  10.,  12.],\n",
       "        [  1.,   1.,   1.],\n",
       "        [  2.,   2.,   2.]],\n",
       "\n",
       "       [[  3.,   3.,   3.],\n",
       "        [  4.,   4.,   4.],\n",
       "        [  1.,   1.,   1.],\n",
       "        [  2.,   2.,   2.]]], dtype=float32)"
      ]
     },
     "execution_count": 1,
     "metadata": {},
     "output_type": "execute_result"
    }
   ],
   "source": [
    "import tensorflow as tf\n",
    "import numpy as np\n",
    "\n",
    "xyz = tf.constant([[1., 2., 3., 4., 5., 6., 1, 1, 1, 2, 2, 2], [2, 4, 6, 8, 10,12, 1, 1, 1, 2, 2, 2], [3, 3, 3, 4, 4, 4, 1, 1, 1, 2, 2, 2]])\n",
    "n_atoms = 4\n",
    "n_samples = 3\n",
    "xyz_3d = tf.reshape(xyz, shape=(n_samples, n_atoms, 3))\n",
    "\n",
    "sess = tf.Session()\n",
    "sess.run(xyz_3d)"
   ]
  },
  {
   "cell_type": "markdown",
   "metadata": {},
   "source": [
    "The next step involves expanding the dimensions of `xyz_3d` in order to exploit [broadcasting](https://docs.scipy.org/doc/numpy/user/basics.broadcasting.html). This is quite confusing."
   ]
  },
  {
   "cell_type": "code",
   "execution_count": 2,
   "metadata": {
    "collapsed": false
   },
   "outputs": [
    {
     "name": "stdout",
     "output_type": "stream",
     "text": [
      "[3 4 1 3]\n",
      "[3 1 4 3]\n"
     ]
    }
   ],
   "source": [
    "expanded_a = tf.expand_dims(xyz_3d, 2)\n",
    "expanded_b = tf.expand_dims(xyz_3d, 1)\n",
    "\n",
    "print(sess.run(tf.shape(expanded_a)))\n",
    "print(sess.run(tf.shape(expanded_b)))"
   ]
  },
  {
   "cell_type": "markdown",
   "metadata": {},
   "source": [
    "The next step is to take the difference squared of these two expanded matrices. For each column in the 3 matrices in `xyz_3d`, this function creates a matrix with shape `[n_atoms, n_atoms]`. So, for the first column of the first matrix of `xyz_3d`, it gives this (call this matrix *diffA* for reference):\n",
    "\n",
    "|       | 1 | 4 | 1 | 2 |\n",
    "| :     | : | : | : | : |\n",
    "| **1** | 0 | 9 | 0 | 1 |\n",
    "| **4** | 9 | 0 | 9 | 4 |\n",
    "| **1** | 0 | 9 | 0 | 1 |\n",
    "| **2** | 1 | 4 | 1 | 0 |\n",
    "\n",
    "For the second column it gives this:\n",
    "\n",
    "|       | 2 | 5  | 1  | 2 |\n",
    "| :     | : | :  | :  | : |\n",
    "| **2** | 0 | 9  | 1  | 0 |\n",
    "| **5** | 9 | 0  | 16 | 9 |\n",
    "| **1** | 1 | 16 | 0  | 1 |\n",
    "| **2** | 0 | 9  | 1  | 0 |\n",
    "\n",
    "\n",
    "And so on and so forth.\n",
    "\n",
    "However, because dimensions want to be confusing, these matrices appear as columns. So, the first row of *diffA* is the first column of the first matrix in `diff2`, the second row of *diffA* is the first column of the second matrix in `diff2`.\n",
    "\n"
   ]
  },
  {
   "cell_type": "code",
   "execution_count": 3,
   "metadata": {
    "collapsed": false
   },
   "outputs": [
    {
     "name": "stdout",
     "output_type": "stream",
     "text": [
      "[[[[   0.    0.    0.]\n",
      "   [   9.    9.    9.]\n",
      "   [   0.    1.    4.]\n",
      "   [   1.    0.    1.]]\n",
      "\n",
      "  [[   9.    9.    9.]\n",
      "   [   0.    0.    0.]\n",
      "   [   9.   16.   25.]\n",
      "   [   4.    9.   16.]]\n",
      "\n",
      "  [[   0.    1.    4.]\n",
      "   [   9.   16.   25.]\n",
      "   [   0.    0.    0.]\n",
      "   [   1.    1.    1.]]\n",
      "\n",
      "  [[   1.    0.    1.]\n",
      "   [   4.    9.   16.]\n",
      "   [   1.    1.    1.]\n",
      "   [   0.    0.    0.]]]\n",
      "\n",
      "\n",
      " [[[   0.    0.    0.]\n",
      "   [  36.   36.   36.]\n",
      "   [   1.    9.   25.]\n",
      "   [   0.    4.   16.]]\n",
      "\n",
      "  [[  36.   36.   36.]\n",
      "   [   0.    0.    0.]\n",
      "   [  49.   81.  121.]\n",
      "   [  36.   64.  100.]]\n",
      "\n",
      "  [[   1.    9.   25.]\n",
      "   [  49.   81.  121.]\n",
      "   [   0.    0.    0.]\n",
      "   [   1.    1.    1.]]\n",
      "\n",
      "  [[   0.    4.   16.]\n",
      "   [  36.   64.  100.]\n",
      "   [   1.    1.    1.]\n",
      "   [   0.    0.    0.]]]\n",
      "\n",
      "\n",
      " [[[   0.    0.    0.]\n",
      "   [   1.    1.    1.]\n",
      "   [   4.    4.    4.]\n",
      "   [   1.    1.    1.]]\n",
      "\n",
      "  [[   1.    1.    1.]\n",
      "   [   0.    0.    0.]\n",
      "   [   9.    9.    9.]\n",
      "   [   4.    4.    4.]]\n",
      "\n",
      "  [[   4.    4.    4.]\n",
      "   [   9.    9.    9.]\n",
      "   [   0.    0.    0.]\n",
      "   [   1.    1.    1.]]\n",
      "\n",
      "  [[   1.    1.    1.]\n",
      "   [   4.    4.    4.]\n",
      "   [   1.    1.    1.]\n",
      "   [   0.    0.    0.]]]]\n"
     ]
    }
   ],
   "source": [
    "diff2 = tf.squared_difference(expanded_a, expanded_b)\n",
    "print(sess.run(diff2))"
   ]
  },
  {
   "cell_type": "markdown",
   "metadata": {},
   "source": [
    "Now, we sum the columns of the matrix above. The 3 column vectors are joined together in a matrix. This is because the distance between two atoms is:\n",
    "\n",
    "`(x1 - x2)^2 + (y1 - y2)^2 + (z1 - z2)^2`\n",
    "\n",
    "in `diff2` one calculates all the possible pair of distances for the x, then for the y and then for the z. This is why they have to be summed together to give the total distance.\n"
   ]
  },
  {
   "cell_type": "code",
   "execution_count": 4,
   "metadata": {
    "collapsed": false
   },
   "outputs": [],
   "source": [
    "diff2_sum = tf.reduce_sum(diff2, axis=3)\n",
    "diff_sum = tf.sqrt(diff2_sum)"
   ]
  },
  {
   "cell_type": "markdown",
   "metadata": {
    "collapsed": true
   },
   "source": [
    "Now that we have the distance matrix for each configuration of the atoms, we can take the strictly upper part of the matrix (since it's a symmetric matrix, there is no need to keep it all). "
   ]
  },
  {
   "cell_type": "code",
   "execution_count": 5,
   "metadata": {
    "collapsed": false
   },
   "outputs": [
    {
     "name": "stdout",
     "output_type": "stream",
     "text": [
      "[[  5.19615221   2.23606801   1.41421342   7.07106733   5.38516474\n",
      "    1.73205078]\n",
      " [ 10.39230442   5.91607952   4.47213602  15.84297943  14.14213467\n",
      "    1.73205078]\n",
      " [  1.73205078   3.46410155   1.73205078   5.19615221   3.46410155\n",
      "    1.73205078]]\n"
     ]
    }
   ],
   "source": [
    "ones = tf.ones_like(diff_sum)\n",
    "mask_a = tf.matrix_band_part(ones, 0, -1)\n",
    "mask_b = tf.matrix_band_part(ones, 0, 0)\n",
    "mask = tf.cast(mask_a - mask_b, dtype=tf.bool) # Transfoorm into bool\n",
    "\n",
    "upper_triangular_conc = tf.boolean_mask(diff_sum, mask)\n",
    "upper_triangular = tf.reshape(upper_triangular_conc, shape=(n_samples, int(n_atoms * (n_atoms-1) * 0.5)))\n",
    "print(sess.run(upper_triangular))"
   ]
  },
  {
   "cell_type": "markdown",
   "metadata": {},
   "source": [
    "For 4 atoms, the distance matrix is 4x4. The upper triangular (excluding the diagonal) contains only 6 elements. "
   ]
  },
  {
   "cell_type": "code",
   "execution_count": null,
   "metadata": {
    "collapsed": true
   },
   "outputs": [],
   "source": []
  }
 ],
 "metadata": {
  "anaconda-cloud": {},
  "kernelspec": {
   "display_name": "Python [conda env:py36]",
   "language": "python",
   "name": "conda-env-py36-py"
  },
  "language_info": {
   "codemirror_mode": {
    "name": "ipython",
    "version": 3
   },
   "file_extension": ".py",
   "mimetype": "text/x-python",
   "name": "python",
   "nbconvert_exporter": "python",
   "pygments_lexer": "ipython3",
   "version": "3.6.2"
  }
 },
 "nbformat": 4,
 "nbformat_minor": 1
}

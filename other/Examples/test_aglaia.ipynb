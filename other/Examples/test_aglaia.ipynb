{
 "cells": [
  {
   "cell_type": "markdown",
   "metadata": {},
   "source": [
    "This notebook is a basic example of the usage of the new version of the Agalia neural network."
   ]
  },
  {
   "cell_type": "code",
   "execution_count": 1,
   "metadata": {
    "collapsed": false
   },
   "outputs": [],
   "source": [
    "import sys\n",
    "sys.path.insert(0,'/Volumes/Transcend/repositories/Aglaia/')\n",
    "from aglaia import aglaia\n",
    "import numpy as np\n",
    "import tensorflow as tf"
   ]
  },
  {
   "cell_type": "code",
   "execution_count": 2,
   "metadata": {
    "collapsed": true
   },
   "outputs": [],
   "source": [
    "# Data\n",
    "x = np.arange(-2.0, 2.0, 0.05)\n",
    "X = np.reshape(x, (len(x), 1))\n",
    "y = np.reshape(X ** 3, (len(x),))"
   ]
  },
  {
   "cell_type": "code",
   "execution_count": null,
   "metadata": {
    "collapsed": false
   },
   "outputs": [
    {
     "name": "stdout",
     "output_type": "stream",
     "text": [
      "Warning: unrecognised input variable(s): <generator object _NN.__init__.<locals>.<genexpr> at 0x11f405a40>\n"
     ]
    }
   ],
   "source": [
    "# Making the estimator\n",
    "estimator = aglaia.MRMP(hidden_layer_sizes=(5, 5, 5), learning_rate=0.5, iterations=5000, l2_reg = 0, tf_dtype = 32, scoring_function=\"rmse\", \n",
    "                        optimiser=tf.train.AdadeltaOptimizer, rho=0.9, epsilon=1e-08,)"
   ]
  },
  {
   "cell_type": "code",
   "execution_count": null,
   "metadata": {
    "collapsed": false
   },
   "outputs": [],
   "source": [
    "# Fitting the estimator\n",
    "estimator.fit(X, y)"
   ]
  },
  {
   "cell_type": "code",
   "execution_count": null,
   "metadata": {
    "collapsed": false
   },
   "outputs": [],
   "source": [
    "# Plotting the cost\n",
    "estimator.plot_cost()"
   ]
  },
  {
   "cell_type": "code",
   "execution_count": null,
   "metadata": {
    "collapsed": false
   },
   "outputs": [],
   "source": [
    "# Predicting\n",
    "y_predict = estimator.predict(X)"
   ]
  },
  {
   "cell_type": "code",
   "execution_count": null,
   "metadata": {
    "collapsed": false
   },
   "outputs": [],
   "source": [
    "#  Visualisation of predictions\n",
    "import matplotlib.pyplot as plt\n",
    "fig2, ax2 = plt.subplots(figsize=(6,6))\n",
    "ax2.scatter(x, y, label=\"original\", marker=\"o\", c=\"r\")\n",
    "ax2.scatter(x, y_predict, label=\"predictions\", marker=\"o\", c='b')\n",
    "ax2.set_xlabel('x')\n",
    "ax2.set_ylabel('y')\n",
    "ax2.legend()\n",
    "plt.show()"
   ]
  },
  {
   "cell_type": "code",
   "execution_count": null,
   "metadata": {
    "collapsed": false
   },
   "outputs": [],
   "source": [
    "y_predict = np.reshape(y_predict, (y_predict.shape[0],))\n",
    "estimator.correlation_plot(y_predict, y)"
   ]
  },
  {
   "cell_type": "code",
   "execution_count": null,
   "metadata": {
    "collapsed": true
   },
   "outputs": [],
   "source": []
  }
 ],
 "metadata": {
  "anaconda-cloud": {},
  "kernelspec": {
   "display_name": "Python [conda env:py36]",
   "language": "python",
   "name": "conda-env-py36-py"
  },
  "language_info": {
   "codemirror_mode": {
    "name": "ipython",
    "version": 3
   },
   "file_extension": ".py",
   "mimetype": "text/x-python",
   "name": "python",
   "nbconvert_exporter": "python",
   "pygments_lexer": "ipython3",
   "version": "3.6.2"
  }
 },
 "nbformat": 4,
 "nbformat_minor": 1
}

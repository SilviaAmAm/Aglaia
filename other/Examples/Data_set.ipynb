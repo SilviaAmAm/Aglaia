{
 "cells": [
  {
   "cell_type": "code",
   "execution_count": 1,
   "metadata": {
    "collapsed": true
   },
   "outputs": [],
   "source": [
    "import numpy as np\n",
    "import joblib\n",
    "import sys\n",
    "sys.path.insert(0,'/Users/walfits/Repositories/Aglaia/')\n",
    "import extract"
   ]
  },
  {
   "cell_type": "code",
   "execution_count": 2,
   "metadata": {
    "collapsed": false
   },
   "outputs": [],
   "source": [
    "coord_xyz, ene, forces = extract.load_data(\"/Users/walfits/Documents/aspirin/\", n_samples=10000)\n",
    "mean_ene = np.mean(ene)\n",
    "std_ene = np.std(ene)\n",
    "\n",
    "ene = (ene-mean_ene)/std_ene\n",
    "forces = forces/std_ene\n",
    "ene_force = np.concatenate((np.reshape(ene, (len(ene),1)), forces), axis=1)"
   ]
  },
  {
   "cell_type": "code",
   "execution_count": 3,
   "metadata": {
    "collapsed": false
   },
   "outputs": [
    {
     "name": "stdout",
     "output_type": "stream",
     "text": [
      "(10000, 63) (10000, 64)\n"
     ]
    }
   ],
   "source": [
    "print coord_xyz.shape, ene_force.shape"
   ]
  },
  {
   "cell_type": "code",
   "execution_count": 4,
   "metadata": {
    "collapsed": false
   },
   "outputs": [
    {
     "data": {
      "text/plain": [
       "['data_10000.bz']"
      ]
     },
     "execution_count": 4,
     "metadata": {},
     "output_type": "execute_result"
    }
   ],
   "source": [
    "new_data = {'coord':coord_xyz, 'ene_forces':ene_force}\n",
    "joblib.dump(new_data, filename=\"data_10000.bz\")"
   ]
  },
  {
   "cell_type": "code",
   "execution_count": null,
   "metadata": {
    "collapsed": true
   },
   "outputs": [],
   "source": []
  }
 ],
 "metadata": {
  "anaconda-cloud": {},
  "kernelspec": {
   "display_name": "Python [conda root]",
   "language": "python",
   "name": "conda-root-py"
  },
  "language_info": {
   "codemirror_mode": {
    "name": "ipython",
    "version": 2
   },
   "file_extension": ".py",
   "mimetype": "text/x-python",
   "name": "python",
   "nbconvert_exporter": "python",
   "pygments_lexer": "ipython2",
   "version": "2.7.12"
  }
 },
 "nbformat": 4,
 "nbformat_minor": 1
}

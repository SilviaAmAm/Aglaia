{
 "cells": [
  {
   "cell_type": "code",
   "execution_count": 1,
   "metadata": {
    "collapsed": false
   },
   "outputs": [
    {
     "name": "stderr",
     "output_type": "stream",
     "text": [
      "/Users/walfits/anaconda2/envs/py36/lib/python3.6/site-packages/h5py/__init__.py:36: FutureWarning: Conversion of the second argument of issubdtype from `float` to `np.floating` is deprecated. In future, it will be treated as `np.float64 == np.dtype(float).type`.\n",
      "  from ._conv import register_converters as _register_converters\n"
     ]
    }
   ],
   "source": [
    "from aglaia import aglaia\n",
    "import qml\n",
    "import os\n",
    "import numpy as np\n",
    "import joblib"
   ]
  },
  {
   "cell_type": "code",
   "execution_count": 2,
   "metadata": {
    "collapsed": true
   },
   "outputs": [],
   "source": [
    "def list_files(dir, key):\n",
    "    \"\"\"\n",
    "    This function walks through a directory and makes a list of the files that have a name containing a particular string\n",
    "    :dir: path to the directory to explore\n",
    "    :key: string to look for in file names\n",
    "    :return: list of files containing \"key\" in their filename\n",
    "    \"\"\"\n",
    "\n",
    "    r = []  # List of files to be joined together\n",
    "    subdirs = [x[0] for x in os.walk(dir)]\n",
    "    for subdir in subdirs:\n",
    "        files = next(os.walk(subdir))[2]\n",
    "\n",
    "        for file in files:\n",
    "            isTrajectory = file.find(key)\n",
    "            if isTrajectory >= 0:\n",
    "                r.append(subdir + \"/\" + file)\n",
    "    return r"
   ]
  },
  {
   "cell_type": "code",
   "execution_count": 4,
   "metadata": {
    "collapsed": true
   },
   "outputs": [],
   "source": [
    "# Making a list of all the compounds\n",
    "filenames = list_files(\"/Volumes/Transcend/data_sets/vr_ccsd\", \".xyz\")\n",
    "compounds = []\n",
    "for file in filenames:\n",
    "    compound = qml.Compound(xyz=file)\n",
    "    compounds.append(compound)"
   ]
  },
  {
   "cell_type": "code",
   "execution_count": 5,
   "metadata": {
    "collapsed": true
   },
   "outputs": [],
   "source": [
    "mbtypes = qml.representations.get_slatm_mbtypes([mol.nuclear_charges for mol in compounds])"
   ]
  },
  {
   "cell_type": "code",
   "execution_count": 6,
   "metadata": {
    "collapsed": false
   },
   "outputs": [
    {
     "name": "stdout",
     "output_type": "stream",
     "text": [
      "17864\n",
      "7\n"
     ]
    }
   ],
   "source": [
    "list_descriptors = []\n",
    "max_n_atoms = 0\n",
    "for compound in compounds:\n",
    "    compound.generate_slatm(mbtypes, local=True, dgrids=[0.06, 0.06])\n",
    "    descriptor = compound.representation\n",
    "    if max_n_atoms < descriptor.shape[0]:\n",
    "        max_n_atoms = descriptor.shape[0]\n",
    "    list_descriptors.append(descriptor)\n",
    "print(len(list_descriptors))\n",
    "print(max_n_atoms)"
   ]
  },
  {
   "cell_type": "code",
   "execution_count": 7,
   "metadata": {
    "collapsed": false
   },
   "outputs": [
    {
     "name": "stdout",
     "output_type": "stream",
     "text": [
      "17864 1245\n"
     ]
    }
   ],
   "source": [
    "n_samples = len(list_descriptors)\n",
    "n_features = list_descriptors[0].shape[1]\n",
    "print(n_samples, n_features)"
   ]
  },
  {
   "cell_type": "code",
   "execution_count": 8,
   "metadata": {
    "collapsed": false
   },
   "outputs": [
    {
     "data": {
      "text/plain": [
       "(17864, 7, 1245)"
      ]
     },
     "execution_count": 8,
     "metadata": {},
     "output_type": "execute_result"
    }
   ],
   "source": [
    "padded_descriptors = np.zeros((n_samples, max_n_atoms, n_features))\n",
    "for i, item in enumerate(list_descriptors):\n",
    "    padded_descriptors[i, :item.shape[0], :] = item\n",
    "padded_descriptors.shape"
   ]
  },
  {
   "cell_type": "code",
   "execution_count": 9,
   "metadata": {
    "collapsed": false
   },
   "outputs": [
    {
     "data": {
      "text/plain": [
       "(17864,)"
      ]
     },
     "execution_count": 9,
     "metadata": {},
     "output_type": "execute_result"
    }
   ],
   "source": [
    "energies = np.loadtxt(\"/Volumes/Transcend/data_sets/vr_ccsd/properties.txt\", usecols=1)\n",
    "energies.shape"
   ]
  },
  {
   "cell_type": "code",
   "execution_count": 11,
   "metadata": {
    "collapsed": false
   },
   "outputs": [
    {
     "data": {
      "text/plain": [
       "(17864, 7)"
      ]
     },
     "execution_count": 11,
     "metadata": {},
     "output_type": "execute_result"
    }
   ],
   "source": [
    "zs = np.zeros((n_samples, max_n_atoms))\n",
    "for i, mol in enumerate(compounds):\n",
    "    zs[i, :mol.nuclear_charges.shape[0]] =  mol.nuclear_charges\n",
    "zs.shape"
   ]
  },
  {
   "cell_type": "code",
   "execution_count": null,
   "metadata": {
    "collapsed": true
   },
   "outputs": [],
   "source": []
  }
 ],
 "metadata": {
  "anaconda-cloud": {},
  "kernelspec": {
   "display_name": "Python [conda env:py36]",
   "language": "python",
   "name": "conda-env-py36-py"
  },
  "language_info": {
   "codemirror_mode": {
    "name": "ipython",
    "version": 3
   },
   "file_extension": ".py",
   "mimetype": "text/x-python",
   "name": "python",
   "nbconvert_exporter": "python",
   "pygments_lexer": "ipython3",
   "version": "3.6.3"
  }
 },
 "nbformat": 4,
 "nbformat_minor": 1
}

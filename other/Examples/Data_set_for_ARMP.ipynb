{
 "cells": [
  {
   "cell_type": "code",
   "execution_count": 1,
   "metadata": {
    "collapsed": true
   },
   "outputs": [],
   "source": [
    "from aglaia import aglaia\n",
    "import qml\n",
    "import os\n",
    "import numpy as np\n",
    "import joblib"
   ]
  },
  {
   "cell_type": "code",
   "execution_count": 2,
   "metadata": {
    "collapsed": true
   },
   "outputs": [],
   "source": [
    "def list_files(dir, key):\n",
    "    \"\"\"\n",
    "    This function walks through a directory and makes a list of the files that have a name containing a particular string\n",
    "    :dir: path to the directory to explore\n",
    "    :key: string to look for in file names\n",
    "    :return: list of files containing \"key\" in their filename\n",
    "    \"\"\"\n",
    "\n",
    "    r = []  # List of files to be joined together\n",
    "    subdirs = [x[0] for x in os.walk(dir)]\n",
    "    for subdir in subdirs:\n",
    "        files = next(os.walk(subdir))[2]\n",
    "\n",
    "        for file in files:\n",
    "            isTrajectory = file.find(key)\n",
    "            if isTrajectory >= 0:\n",
    "                r.append(subdir + \"/\" + file)\n",
    "    return r"
   ]
  },
  {
   "cell_type": "code",
   "execution_count": 3,
   "metadata": {
    "collapsed": false
   },
   "outputs": [],
   "source": [
    "# Making a list of all the compounds\n",
    "filenames = list_files(\"/Volumes/Transcend/repositories/Aglaia/data/qm7\", \".xyz\")\n",
    "compounds = []\n",
    "for file in filenames:\n",
    "    compound = qml.Compound(xyz=file)\n",
    "    compounds.append(compound)"
   ]
  },
  {
   "cell_type": "code",
   "execution_count": null,
   "metadata": {
    "collapsed": false
   },
   "outputs": [],
   "source": [
    "mbtypes = qml.representations.get_slatm_mbtypes([mol.nuclear_charges for mol in compounds])"
   ]
  },
  {
   "cell_type": "code",
   "execution_count": null,
   "metadata": {
    "collapsed": false
   },
   "outputs": [],
   "source": [
    "list_descriptors = []\n",
    "max_n_atoms = 0\n",
    "for compound in compounds:\n",
    "    compound.generate_slatm(mbtypes, local=True, dgrids=[0.06, 0.06])\n",
    "    descriptor = compound.representation\n",
    "    if max_n_atoms < descriptor.shape[0]:\n",
    "        max_n_atoms = descriptor.shape[0]\n",
    "    list_descriptors.append(descriptor)\n",
    "print(len(list_descriptors))\n",
    "print(max_n_atoms)"
   ]
  },
  {
   "cell_type": "code",
   "execution_count": null,
   "metadata": {
    "collapsed": false
   },
   "outputs": [],
   "source": [
    "n_samples = len(list_descriptors)\n",
    "n_features = list_descriptors[0].shape[1]\n",
    "print(n_samples, n_features)"
   ]
  },
  {
   "cell_type": "code",
   "execution_count": null,
   "metadata": {
    "collapsed": false
   },
   "outputs": [],
   "source": [
    "padded_descriptors = np.zeros((n_samples, max_n_atoms, n_features))\n",
    "for i, item in enumerate(list_descriptors):\n",
    "    padded_descriptors[i, :item.shape[0], :] = item"
   ]
  },
  {
   "cell_type": "code",
   "execution_count": null,
   "metadata": {
    "collapsed": false
   },
   "outputs": [],
   "source": [
    "padded_descriptors.shape"
   ]
  },
  {
   "cell_type": "code",
   "execution_count": null,
   "metadata": {
    "collapsed": false
   },
   "outputs": [],
   "source": [
    "energies = np.loadtxt(\"/Volumes/Transcend/repositories/Aglaia/data/qm7/hof_qm7.txt\", usecols=1)\n",
    "energies.shape"
   ]
  },
  {
   "cell_type": "code",
   "execution_count": null,
   "metadata": {
    "collapsed": false
   },
   "outputs": [],
   "source": [
    "zs = np.zeros((n_samples, max_n_atoms))\n",
    "for i, mol in enumerate(compounds):\n",
    "    zs[i, :mol.nuclear_charges.shape[0]] =  mol.nuclear_charges"
   ]
  },
  {
   "cell_type": "code",
   "execution_count": null,
   "metadata": {
    "collapsed": false
   },
   "outputs": [],
   "source": [
    "zs.shape"
   ]
  },
  {
   "cell_type": "code",
   "execution_count": null,
   "metadata": {
    "collapsed": false
   },
   "outputs": [],
   "source": [
    "# np.savez(\"local_slatm_qm7.npz\", padded_descriptors, zs, energies)"
   ]
  },
  {
   "cell_type": "code",
   "execution_count": null,
   "metadata": {
    "collapsed": true
   },
   "outputs": [],
   "source": [
    "# data = {'descriptor':padded_descriptors, 'zs': zs, 'energies':energies}"
   ]
  },
  {
   "cell_type": "code",
   "execution_count": null,
   "metadata": {
    "collapsed": false
   },
   "outputs": [],
   "source": [
    "# joblib.dump(data, filename=\"local_slatm_qm7.bz\")"
   ]
  },
  {
   "cell_type": "code",
   "execution_count": null,
   "metadata": {
    "collapsed": true
   },
   "outputs": [],
   "source": [
    "data = {'descriptor':padded_descriptors[:10,:,:] , 'zs': zs[:10,:], 'energies':energies[:10]}"
   ]
  },
  {
   "cell_type": "code",
   "execution_count": null,
   "metadata": {
    "collapsed": true
   },
   "outputs": [],
   "source": [
    "joblib.dump(data, filename=\"local_slatm_qm7_light.bz\")"
   ]
  }
 ],
 "metadata": {
  "anaconda-cloud": {},
  "kernelspec": {
   "display_name": "Python [conda env:py36]",
   "language": "python",
   "name": "conda-env-py36-py"
  },
  "language_info": {
   "codemirror_mode": {
    "name": "ipython",
    "version": 3
   },
   "file_extension": ".py",
   "mimetype": "text/x-python",
   "name": "python",
   "nbconvert_exporter": "python",
   "pygments_lexer": "ipython3",
   "version": "3.6.2"
  }
 },
 "nbformat": 4,
 "nbformat_minor": 1
}
